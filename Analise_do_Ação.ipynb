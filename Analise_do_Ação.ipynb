{
  "nbformat": 4,
  "nbformat_minor": 0,
  "metadata": {
    "colab": {
      "provenance": [],
      "authorship_tag": "ABX9TyNmxo/eK2FW5DtzKxsc83B8",
      "include_colab_link": true
    },
    "kernelspec": {
      "name": "python3",
      "display_name": "Python 3"
    },
    "language_info": {
      "name": "python"
    }
  },
  "cells": [
    {
      "cell_type": "markdown",
      "metadata": {
        "id": "view-in-github",
        "colab_type": "text"
      },
      "source": [
        "<a href=\"https://colab.research.google.com/github/carloseduardonit/Estudos-Aleatorio-com-Pytron/blob/main/Analise_do_A%C3%A7%C3%A3o.ipynb\" target=\"_parent\"><img src=\"https://colab.research.google.com/assets/colab-badge.svg\" alt=\"Open In Colab\"/></a>"
      ]
    },
    {
      "cell_type": "code",
      "source": [
        "import yfinance as yf\n",
        "import pandas as pd\n"
      ],
      "metadata": {
        "id": "ySqbxVk-Z3Ni"
      },
      "execution_count": 16,
      "outputs": []
    },
    {
      "cell_type": "code",
      "source": [
        "listaCotaçoes = ['Vale']\n",
        "\n",
        "for ação in listaCotaçoes:\n",
        "  resultado = yf.Ticker(ação)\n",
        "  resultado = str(resultado.info).split(\",\")\n",
        "  for elemento in resultado:\n",
        "\n",
        "      print(elemento, end= \"\\n\")"
      ],
      "metadata": {
        "id": "Kj46zh7faLBv"
      },
      "execution_count": 33,
      "outputs": []
    }
  ]
}